{
 "cells": [
  {
   "cell_type": "markdown",
   "metadata": {},
   "source": [
    "# Homework 4 - Due Friday Sept 11, 5pm"
   ]
  },
  {
   "cell_type": "markdown",
   "metadata": {},
   "source": [
    "*The semi-empirical mass formula*\n",
    "\n",
    "In nuclear physics, the semi-empirical mass formula is a formula for calculating the\n",
    "approximate nuclear binding energy $B$ of an atomic nucleus with atomic number $Z$\n",
    "and mass number $A$. The formula looks like this:\n",
    "    \n",
    "$$ B = a_1 A - a_2 A^{2/3} - a_3 \\frac{Z^2}{A^{1/3}} - a_4 \\frac{(A - 2Z)^2}{A} - \\frac{a_5}{A^{1/2}} $$\n",
    "\n",
    "where, in units of millions of electron volts (MeV), the constants are $a_1 =\n",
    "15.67$, $a_2 = 17.23$, $a_3 = 0.75$, $a_4 = 93.2$, and\n",
    "\n",
    "$$ a_5  \\; =  \\;\\; \\left\\{ \\begin{array} {r@{\\quad\\tt if \\quad}l} 0 & A \\;{\\tt is\n",
    "      \\; odd}, \\\\\n",
    "    12.0 & A \\;{\\tt and}\\; Z \\;{\\tt are \\;both \\;even}, \\\\ -12.0 & A \\;{\\tt is\n",
    "     \\;  even \\; and}\\;  Z \\;{\\tt is\n",
    "  \\;  odd.} \\end{array} \\right. $$\n",
    "\n",
    "Write a function that takes as its input the values of $A$ and $Z$, and\n",
    "prints out: \n",
    "* (a) the binding energy $B$ for the corresponding atom and \n",
    "* (b) the binding energy per nucleon, which is $B/A$. \n",
    "\n",
    "Use your program to find\n",
    "the binding energy of an atom with $A = 58$ and $Z = 28$. (Hint: The\n",
    "correct answer is around 490 MeV.) \n",
    "\n",
    "Also run,  $A = 59$ and $Z = 28$ and $A = 58$ and $Z = 27$.\n"
   ]
  },
  {
   "cell_type": "code",
   "execution_count": 84,
   "metadata": {},
   "outputs": [],
   "source": [
    "# Constants in MeV #\n",
    "a1 = 15.67\n",
    "a2 = 17.23\n",
    "a3 = 0.75\n",
    "a4 = 93.2\n",
    "\n",
    "# Function to find a5 constant #\n",
    "def a5_func(A, Z):                 # A = mass number and Z = atomic number. \n",
    "    if (A % 2 != 0):\n",
    "        return 0\n",
    "    elif (A % 2 == 0) and (Z % 2 == 0):\n",
    "        return 12.0\n",
    "    else:\n",
    "        return -12.0"
   ]
  },
  {
   "cell_type": "code",
   "execution_count": 91,
   "metadata": {},
   "outputs": [
    {
     "name": "stdout",
     "output_type": "stream",
     "text": [
      " The binding energy is 490.78425241273493 Mev\n",
      "The binding energy per nucleon is 8.46179745539198 Mev\n"
     ]
    }
   ],
   "source": [
    "# Function to caculate nuclear binding energ (B) # \n",
    "def B_value(A, Z):                 # A = mass number and Z = atomic number. \n",
    "    a5 = a5_func(58, 28)            \n",
    "    part1 = a1 * A\n",
    "    part2 = a2 * pow(A, 2/3)\n",
    "    part3 = a3 * pow(Z, 2) / pow(A, 1/3)\n",
    "    part4 = a4 * pow(A - 2 * Z, 2) / A\n",
    "    part5 = a5 / pow(A, (1/2))\n",
    "    formula = part1 - part2 - part3 - part4 - part5\n",
    "    return formula\n",
    "\n",
    "print(' The binding energy is', B_value(58, 28),'Mev')\n",
    "\n",
    "# BE = Energy per nucleon, which is (BA)\n",
    "BE = B_value(58, 28) / A\n",
    "print('The binding energy per nucleon is', BE, 'Mev')"
   ]
  },
  {
   "cell_type": "code",
   "execution_count": 93,
   "metadata": {},
   "outputs": [
    {
     "name": "stdout",
     "output_type": "stream",
     "text": [
      " The binding energy is 492.3599296070516 Mev\n",
      "The binding energy per nucleon is 8.588701336995069 Mev\n"
     ]
    }
   ],
   "source": [
    "# For A = 59 and Z = 28\n",
    "def B_value(A, Z):                 # A = mass number and Z = atomic number. \n",
    "    a5 = a5_func(59, 28)            \n",
    "    part1 = a1 * A\n",
    "    part2 = a2 * pow(A, 2/3)\n",
    "    part3 = a3 * pow(Z, 2) / pow(A, 1/3)\n",
    "    part4 = a4 * pow(A - 2 * Z, 2) / A\n",
    "    part5 = a5 / pow(A, (1/2))\n",
    "    formula = part1 - part2 - part3 - part4 - part5\n",
    "    return formula\n",
    "\n",
    "print(' The binding energy is', B_value(58, 28),'Mev')\n",
    "\n",
    "# BE = Energy per nucleon, which is (BA)\n",
    "BE = B_value(59, 28) / A\n",
    "print('The binding energy per nucleon is', BE, 'Mev')"
   ]
  },
  {
   "cell_type": "code",
   "execution_count": 94,
   "metadata": {},
   "outputs": [
    {
     "name": "stdout",
     "output_type": "stream",
     "text": [
      " The binding energy is 493.93560680136824 Mev\n",
      "The binding energy per nucleon is 8.367402568554214 Mev\n"
     ]
    }
   ],
   "source": [
    "def B_value(A, Z):                 # A = mass number and Z = atomic number. \n",
    "    a5 = a5_func(58, 27)            \n",
    "    part1 = a1 * A\n",
    "    part2 = a2 * pow(A, 2/3)\n",
    "    part3 = a3 * pow(Z, 2) / pow(A, 1/3)\n",
    "    part4 = a4 * pow(A - 2 * Z, 2) / A\n",
    "    part5 = a5 / pow(A, (1/2))\n",
    "    formula = part1 - part2 - part3 - part4 - part5\n",
    "    return formula\n",
    "    \n",
    "\n",
    "print(' The binding energy is', B_value(58, 28),'Mev')\n",
    "\n",
    "# BE = Energy per nucleon, which is (BA)\n",
    "BE = B_value(58, 27) / A\n",
    "print('The binding energy per nucleon is', BE, 'Mev')"
   ]
  }
 ],
 "metadata": {
  "kernelspec": {
   "display_name": "Python 3",
   "language": "python",
   "name": "python3"
  },
  "language_info": {
   "codemirror_mode": {
    "name": "ipython",
    "version": 3
   },
   "file_extension": ".py",
   "mimetype": "text/x-python",
   "name": "python",
   "nbconvert_exporter": "python",
   "pygments_lexer": "ipython3",
   "version": "3.8.8"
  }
 },
 "nbformat": 4,
 "nbformat_minor": 4
}
