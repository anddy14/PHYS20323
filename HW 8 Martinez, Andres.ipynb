{
 "cells": [
  {
   "cell_type": "markdown",
   "metadata": {},
   "source": [
    "# PHYS 20323/60323 Homework Week 8\n",
    "\n",
    "FALL 2022\n"
   ]
  },
  {
   "cell_type": "markdown",
   "metadata": {},
   "source": [
    "### 1) Altitude of a satellite\n",
    "\n",
    "A satellite is to be launched into a circular orbit around the Earth so that it orbits the planet once every T seconds.\n",
    "\n",
    "The altitude h above the Earth’s surface that the satellite must have is:\n",
    "\n",
    "$$h = \\left( \\frac{G M T^2}{4\\pi^2} \\right)^{1/3} - R$$\n",
    "\n",
    "where $G = 6.67 \\times 10^{-11}$ m$^3$ kg$^{-1}$ s$^{-2}$\n",
    "is Newton's gravitational constant, $M = 5.97 \\times 10^{24}$ kg is the mass of the Earth, and $R = 6371$ km is its radius.\n",
    "\n",
    "#### Write a program that asks the user to enter the desired value of T and then calculates and prints out the correct altitude in meters.\n"
   ]
  },
  {
   "cell_type": "code",
   "execution_count": 3,
   "metadata": {},
   "outputs": [
    {
     "name": "stdout",
     "output_type": "stream",
     "text": [
      "Enter value of T 5400\n",
      "Altitude : 279321.62537285965\n"
     ]
    }
   ],
   "source": [
    "import math\n",
    "\n",
    "G = 6.67 * 10**-11      # m^3 kg^-1 s^-2\n",
    "M = 5.97 * 10**24       # kg\n",
    "R = 6371000             # m\n",
    "\n",
    "\n",
    "def alt(T):\n",
    "  alt = math.pow((G*M*(T**2)/((2*math.pi)**2)),1/3) - R\n",
    "  return alt\n",
    "\n",
    "T = int(input('Enter value of T '))  # T is in seconds\n",
    "print(\"Altitude :\",alt(T))\n",
    "\n"
   ]
  },
  {
   "cell_type": "markdown",
   "metadata": {},
   "source": [
    "Use your program to calculate the altitudes of satellites that orbit the Earth once\n",
    "a day (so-called “geosynchronous” orbit), once every 90 minutes, and once every\n",
    "45 minutes. What do you conclude from the last of these calculations?\n",
    "\n",
    "\n",
    "\n"
   ]
  },
  {
   "cell_type": "code",
   "execution_count": 7,
   "metadata": {},
   "outputs": [
    {
     "name": "stdout",
     "output_type": "stream",
     "text": [
      "Altitude at T = 90 is:  279321.62537285965\n",
      "Altitude at T = 45 is:  -2181559.8978108233\n"
     ]
    }
   ],
   "source": [
    "print('Altitude at T = 90 is: ',alt(5400))   # 90 mins = 5400 sec\n",
    "print('Altitude at T = 45 is: ',alt(2700))   # 45 mins = 2700 sec\n",
    "# Time of 45 minutes is imposible "
   ]
  },
  {
   "cell_type": "markdown",
   "metadata": {},
   "source": [
    "Technically a geosynchronous satellite is one that orbits the Earth once persidereal\n",
    "day, which is 23.93 hours, not 24 hours. Why is this? And how much difference\n",
    "will it make to the altitude of the satellite?"
   ]
  },
  {
   "cell_type": "code",
   "execution_count": 8,
   "metadata": {},
   "outputs": [
    {
     "name": "stdout",
     "output_type": "stream",
     "text": [
      "Difference of altitude for 23.93 hr and 24 hr is  82147.8462793231\n"
     ]
    }
   ],
   "source": [
    "print('Difference of altitude for 23.93 hr and 24 hr is ', alt(24*60*60)-alt(23.93*60*60))"
   ]
  },
  {
   "cell_type": "markdown",
   "metadata": {},
   "source": [
    "### 2) Special Relativity\n",
    "\n",
    "A spaceship travels from Earth in a straight line at a (relativistic)\n",
    "speed $v$ to another planet $x$ light years away. Write a program to ask\n",
    "the user for the value of $x$ and the speed $v$ as a fraction of the speed\n",
    "of light, then print out the time in years that the spaceship takes to\n",
    "reach its destination (a) in the rest frame of an observer on Earth\n",
    "and (b) as perceived by a passenger on board the ship.\n",
    "\n",
    "$$x' = \\gamma (x - vt)$$\n",
    "\n",
    "$$t' = \\gamma \\left(t - \\frac{v x}{c^2}\\right)$$\n",
    "\n",
    "$$\\gamma = \\frac{1}{\\sqrt{1 - \\frac{v^2}{c^2}}}$$\n"
   ]
  },
  {
   "cell_type": "code",
   "execution_count": null,
   "metadata": {},
   "outputs": [],
   "source": []
  },
  {
   "cell_type": "markdown",
   "metadata": {},
   "source": [
    "#### Use your program to calculate the answers for a planet 10 light years away with $v = 0.90c$,  $v = 0.98c$, $v = 0.999c$."
   ]
  },
  {
   "cell_type": "code",
   "execution_count": null,
   "metadata": {},
   "outputs": [],
   "source": []
  },
  {
   "cell_type": "markdown",
   "metadata": {},
   "source": [
    "### 3) The quadratic equation\n",
    "\n",
    " Write a program that takes as input three numbers, $a$, $b$, and $c$, and prints out the two solutions to the quadratic equation $ax^2 + bx + c = 0$ using the standard\n",
    "formula:\n",
    "\n",
    "$$x = \\frac{-b \\pm \\sqrt{b^2 - 4ac}}{2a}$$\n",
    "\n",
    "Use your program to compute the solutions of $0.001x^2 + 1000x + 0.001 = 0$."
   ]
  },
  {
   "cell_type": "code",
   "execution_count": 18,
   "metadata": {},
   "outputs": [
    {
     "name": "stdout",
     "output_type": "stream",
     "text": [
      "(-9.999894245993346e-07, -999999.999999, 999999.999996)\n"
     ]
    }
   ],
   "source": [
    "import math\n",
    "\n",
    "def quad_eq(a,b,c):\n",
    "    B = (b**2)-4*a*c              # This is what is inside the sqrt.\n",
    "    x = (-b + math.sqrt(B))/(2*a)\n",
    "    y = (-b - math.sqrt(B))/(2*a)\n",
    "    return x,y,B\n",
    "    \n",
    "\n",
    "print(quad_eq(0.001,1000,0.001))\n",
    "   \n",
    "    "
   ]
  },
  {
   "cell_type": "markdown",
   "metadata": {},
   "source": [
    "There is another way to write the solutions to a quadratic equation. Multiplying top and bottom of the solution above by $-b \\mp \\sqrt{b^2 - 4ac}$, show that the solutions\n",
    "can also be written as:\n",
    "\n",
    "$$x = \\frac{2c}{-b \\mp \\sqrt{b^2 - 4ac}}$$\n",
    "\n",
    "Add further lines to your program to print these values in addition to the earlier ones and again use the program to solve $0.001x^2 + 1000x + 0.001 = 0$. What do you see? How do you explain it?"
   ]
  },
  {
   "cell_type": "code",
   "execution_count": 19,
   "metadata": {
    "scrolled": true
   },
   "outputs": [
    {
     "name": "stdout",
     "output_type": "stream",
     "text": [
      "(-1.000000000001e-06, -1000010.5755125057, 999999.999996)\n"
     ]
    }
   ],
   "source": [
    "import math\n",
    "\n",
    "def quad_eq2(a,b,c):\n",
    "    B = (b**2)-4*a*c\n",
    "    x = (2*c)/(-b - math.sqrt(B))\n",
    "    y = (2*c)/(-b + math.sqrt(B))\n",
    "    return x,y,B\n",
    "\n",
    "print(quad_eq2(0.001,1000,0.001))\n"
   ]
  },
  {
   "cell_type": "markdown",
   "metadata": {},
   "source": [
    "Using what you have learned, write a new program that calculates both roots of a quadratic equation accurately in all cases."
   ]
  },
  {
   "cell_type": "code",
   "execution_count": 24,
   "metadata": {},
   "outputs": [
    {
     "name": "stdout",
     "output_type": "stream",
     "text": [
      "('-2.0 + i1.0', '-2.0 - i1.0')\n"
     ]
    }
   ],
   "source": [
    "import math\n",
    "\n",
    "def quad_eq3(a,b,c):\n",
    "    B = b**2 -4*a*c\n",
    "    if B >= 0:\n",
    "        x = (-b + math.sqrt(B))/(2*a)\n",
    "        y = (-b - math.sqrt(B))/(2*a)\n",
    "    else:\n",
    "        real = -b/(2*a)\n",
    "        img = math.sqrt(-1*B)/(2*a)\n",
    "        x = str(real) + \" + \" + \"i\"+ str(img)\n",
    "        y = str(real) + \" - \" + \"i\"+ str(img)\n",
    "    return x,y\n",
    "print(quad_eq3(1,4,5))"
   ]
  }
 ],
 "metadata": {
  "kernelspec": {
   "display_name": "Python 3",
   "language": "python",
   "name": "python3"
  },
  "language_info": {
   "codemirror_mode": {
    "name": "ipython",
    "version": 3
   },
   "file_extension": ".py",
   "mimetype": "text/x-python",
   "name": "python",
   "nbconvert_exporter": "python",
   "pygments_lexer": "ipython3",
   "version": "3.8.8"
  }
 },
 "nbformat": 4,
 "nbformat_minor": 4
}
